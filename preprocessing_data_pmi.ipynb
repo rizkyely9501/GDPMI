{
  "nbformat": 4,
  "nbformat_minor": 0,
  "metadata": {
    "colab": {
      "name": "preprocessing data pmi.ipynb",
      "provenance": []
    },
    "kernelspec": {
      "name": "python3",
      "display_name": "Python 3"
    },
    "language_info": {
      "name": "python"
    }
  },
  "cells": [
    {
      "cell_type": "code",
      "metadata": {
        "colab": {
          "base_uri": "https://localhost:8080/"
        },
        "id": "J8wOkNu1_-Ve",
        "outputId": "e65af02b-0b56-4809-e58e-75cb76d40210"
      },
      "source": [
        "%cd /content/sample_data/"
      ],
      "execution_count": null,
      "outputs": [
        {
          "output_type": "stream",
          "name": "stdout",
          "text": [
            "/content/sample_data\n"
          ]
        }
      ]
    },
    {
      "cell_type": "code",
      "metadata": {
        "colab": {
          "base_uri": "https://localhost:8080/"
        },
        "id": "OxrjSx05Nmnn",
        "outputId": "22c2be37-02d8-40fe-d096-fed103b20909"
      },
      "source": [
        "pip install xlrd"
      ],
      "execution_count": null,
      "outputs": [
        {
          "output_type": "stream",
          "name": "stdout",
          "text": [
            "Requirement already satisfied: xlrd in /usr/local/lib/python3.7/dist-packages (1.1.0)\n"
          ]
        }
      ]
    },
    {
      "cell_type": "code",
      "metadata": {
        "colab": {
          "base_uri": "https://localhost:8080/",
          "height": 204
        },
        "id": "PgskgMUvAvrh",
        "outputId": "cc71bcc5-a5ab-4fc7-c101-74a0ed1cfd8e"
      },
      "source": [
        "import pandas as pd\n",
        "\n",
        "data = pd.read_csv('data_pmi_gd.csv', decimal=',')\n",
        "data.head()"
      ],
      "execution_count": null,
      "outputs": [
        {
          "output_type": "execute_result",
          "data": {
            "text/html": [
              "<div>\n",
              "<style scoped>\n",
              "    .dataframe tbody tr th:only-of-type {\n",
              "        vertical-align: middle;\n",
              "    }\n",
              "\n",
              "    .dataframe tbody tr th {\n",
              "        vertical-align: top;\n",
              "    }\n",
              "\n",
              "    .dataframe thead th {\n",
              "        text-align: right;\n",
              "    }\n",
              "</style>\n",
              "<table border=\"1\" class=\"dataframe\">\n",
              "  <thead>\n",
              "    <tr style=\"text-align: right;\">\n",
              "      <th></th>\n",
              "      <th>Tanggal</th>\n",
              "      <th>IN / OUT</th>\n",
              "      <th>Nomor GDN/GRN</th>\n",
              "      <th>Gudang</th>\n",
              "      <th>Dari/Kepada-Masking</th>\n",
              "      <th>Nama Barang</th>\n",
              "      <th>Merk/Jenis-Deleted</th>\n",
              "      <th>Satuan</th>\n",
              "      <th>Masuk</th>\n",
              "      <th>Keluar</th>\n",
              "      <th>Nilai</th>\n",
              "      <th>Jumlah</th>\n",
              "      <th>Berat</th>\n",
              "      <th>Total Berat</th>\n",
              "    </tr>\n",
              "  </thead>\n",
              "  <tbody>\n",
              "    <tr>\n",
              "      <th>0</th>\n",
              "      <td>01-Feb-20</td>\n",
              "      <td>IN</td>\n",
              "      <td>01.01</td>\n",
              "      <td>G2</td>\n",
              "      <td>Gudang Regional PMI_Serang</td>\n",
              "      <td>Masker Bedah</td>\n",
              "      <td>Sensi</td>\n",
              "      <td>Pcs</td>\n",
              "      <td>350.000</td>\n",
              "      <td>NaN</td>\n",
              "      <td>7.000</td>\n",
              "      <td>2.450.000.000</td>\n",
              "      <td>0.006</td>\n",
              "      <td>2100.0</td>\n",
              "    </tr>\n",
              "    <tr>\n",
              "      <th>1</th>\n",
              "      <td>01-Feb-20</td>\n",
              "      <td>OUT</td>\n",
              "      <td>01.01</td>\n",
              "      <td>G2</td>\n",
              "      <td>Ketua Umum</td>\n",
              "      <td>Masker N95</td>\n",
              "      <td>3M</td>\n",
              "      <td>Pcs</td>\n",
              "      <td>NaN</td>\n",
              "      <td>800</td>\n",
              "      <td>108.240</td>\n",
              "      <td>86.592.000</td>\n",
              "      <td>0.040</td>\n",
              "      <td>32.0</td>\n",
              "    </tr>\n",
              "    <tr>\n",
              "      <th>2</th>\n",
              "      <td>01-Feb-20</td>\n",
              "      <td>OUT</td>\n",
              "      <td>01.02</td>\n",
              "      <td>G2</td>\n",
              "      <td>PMI Kabupaten Natuna</td>\n",
              "      <td>Masker Bedah</td>\n",
              "      <td>Sensi</td>\n",
              "      <td>Pcs</td>\n",
              "      <td>NaN</td>\n",
              "      <td>20.000</td>\n",
              "      <td>7.000</td>\n",
              "      <td>140.000.000</td>\n",
              "      <td>0.006</td>\n",
              "      <td>120.0</td>\n",
              "    </tr>\n",
              "    <tr>\n",
              "      <th>3</th>\n",
              "      <td>05-Feb-20</td>\n",
              "      <td>OUT</td>\n",
              "      <td>05.01</td>\n",
              "      <td>G2</td>\n",
              "      <td>Palang Merah Hongkong</td>\n",
              "      <td>Masker Bedah</td>\n",
              "      <td>Sensi</td>\n",
              "      <td>Pcs</td>\n",
              "      <td>NaN</td>\n",
              "      <td>50.000</td>\n",
              "      <td>7.000</td>\n",
              "      <td>350.000.000</td>\n",
              "      <td>0.006</td>\n",
              "      <td>300.0</td>\n",
              "    </tr>\n",
              "    <tr>\n",
              "      <th>4</th>\n",
              "      <td>05-Feb-20</td>\n",
              "      <td>OUT</td>\n",
              "      <td>05.02</td>\n",
              "      <td>G2</td>\n",
              "      <td>Lain-lain</td>\n",
              "      <td>Masker Bedah</td>\n",
              "      <td>Sensi</td>\n",
              "      <td>Pcs</td>\n",
              "      <td>NaN</td>\n",
              "      <td>4.000</td>\n",
              "      <td>7.000</td>\n",
              "      <td>28.000.000</td>\n",
              "      <td>0.006</td>\n",
              "      <td>24.0</td>\n",
              "    </tr>\n",
              "  </tbody>\n",
              "</table>\n",
              "</div>"
            ],
            "text/plain": [
              "     Tanggal IN / OUT Nomor GDN/GRN  ...         Jumlah  Berat Total Berat\n",
              "0  01-Feb-20       IN         01.01  ...  2.450.000.000  0.006      2100.0\n",
              "1  01-Feb-20      OUT         01.01  ...     86.592.000  0.040        32.0\n",
              "2  01-Feb-20      OUT         01.02  ...    140.000.000  0.006       120.0\n",
              "3  05-Feb-20      OUT         05.01  ...    350.000.000  0.006       300.0\n",
              "4  05-Feb-20      OUT         05.02  ...     28.000.000  0.006        24.0\n",
              "\n",
              "[5 rows x 14 columns]"
            ]
          },
          "metadata": {},
          "execution_count": 123
        }
      ]
    },
    {
      "cell_type": "code",
      "metadata": {
        "id": "YPauYrRZBDrK",
        "colab": {
          "base_uri": "https://localhost:8080/"
        },
        "outputId": "348e7bea-f655-4458-8d2c-aab1a20925b0"
      },
      "source": [
        "data.info()"
      ],
      "execution_count": null,
      "outputs": [
        {
          "output_type": "stream",
          "name": "stdout",
          "text": [
            "<class 'pandas.core.frame.DataFrame'>\n",
            "RangeIndex: 8189 entries, 0 to 8188\n",
            "Data columns (total 14 columns):\n",
            " #   Column               Non-Null Count  Dtype  \n",
            "---  ------               --------------  -----  \n",
            " 0   Tanggal              8189 non-null   object \n",
            " 1   IN / OUT             8189 non-null   object \n",
            " 2   Nomor GDN/GRN        8188 non-null   object \n",
            " 3   Gudang               8189 non-null   object \n",
            " 4   Dari/Kepada-Masking  8189 non-null   object \n",
            " 5   Nama Barang          8189 non-null   object \n",
            " 6   Merk/Jenis-Deleted   4344 non-null   object \n",
            " 7   Satuan               8187 non-null   object \n",
            " 8    Masuk               812 non-null    object \n",
            " 9    Keluar              7374 non-null   object \n",
            " 10  Nilai                7672 non-null   object \n",
            " 11   Jumlah              7763 non-null   object \n",
            " 12  Berat                8094 non-null   float64\n",
            " 13  Total Berat          8189 non-null   float64\n",
            "dtypes: float64(2), object(12)\n",
            "memory usage: 895.8+ KB\n"
          ]
        }
      ]
    },
    {
      "cell_type": "code",
      "metadata": {
        "id": "oFCSQh1QaCXN"
      },
      "source": [
        "data = data.rename(columns={' Masuk':'Masuk',' Keluar':'Keluar',' Jumlah':'Jumlah'})"
      ],
      "execution_count": null,
      "outputs": []
    },
    {
      "cell_type": "code",
      "metadata": {
        "id": "8a2KhjTHScX_"
      },
      "source": [
        "data['Tanggal'] = data['Tanggal'].astype(str).str.replace('Mei', 'May', regex=False)\n",
        "data['Tanggal'] = data['Tanggal'].astype(str).str.replace('Agu', 'Aug', regex=False)\n",
        "data['Tanggal'] = data['Tanggal'].astype(str).str.replace('Okt', 'Oct', regex=False)\n",
        "data['Tanggal'] = data['Tanggal'].astype(str).str.replace('Des', 'Dec', regex=False)"
      ],
      "execution_count": null,
      "outputs": []
    },
    {
      "cell_type": "code",
      "metadata": {
        "id": "Fys4xLezRZ7k"
      },
      "source": [
        "data['Tanggal'] = pd.to_datetime(data['Tanggal'])"
      ],
      "execution_count": null,
      "outputs": []
    },
    {
      "cell_type": "code",
      "metadata": {
        "colab": {
          "base_uri": "https://localhost:8080/"
        },
        "id": "GK0DbtpMwNAB",
        "outputId": "2744c805-6d1a-4322-f80e-e523b6aa5e90"
      },
      "source": [
        "data.loc[564]"
      ],
      "execution_count": null,
      "outputs": [
        {
          "output_type": "execute_result",
          "data": {
            "text/plain": [
              "Tanggal                    2020-03-19 00:00:00\n",
              "IN / OUT                                   OUT\n",
              "Nomor GDN/GRN                            19.22\n",
              "Gudang                                      G2\n",
              "Dari/Kepada-Masking    PMI Provinsi Jawa Barat\n",
              "Nama Barang                       Masker Bedah\n",
              "Merk/Jenis-Deleted                       3 Ply\n",
              "Satuan                                     Pcs\n",
              "Masuk                                      NaN\n",
              "Keluar                                  1.000 \n",
              "Nilai                                    7.000\n",
              "Jumlah                               7.000.000\n",
              "Berat                                    0.006\n",
              "Total Berat                                  6\n",
              "Name: 564, dtype: object"
            ]
          },
          "metadata": {},
          "execution_count": 155
        }
      ]
    },
    {
      "cell_type": "code",
      "metadata": {
        "id": "ID9U0_akq8Ys"
      },
      "source": [
        "data = data.replace({'Keluar': {564: np.nan}})"
      ],
      "execution_count": null,
      "outputs": []
    },
    {
      "cell_type": "code",
      "metadata": {
        "colab": {
          "base_uri": "https://localhost:8080/",
          "height": 459
        },
        "id": "_buNNm7-R1OA",
        "outputId": "bba09a8e-fcf2-40da-9804-8aae0b7d5355"
      },
      "source": [
        "data[['Keluar','Nilai','Jumlah','Berat','Total Berat']] = data[['Keluar', 'Nilai', 'Jumlah','Berat','Total Berat']].apply(pd.to_numeric)"
      ],
      "execution_count": null,
      "outputs": [
        {
          "output_type": "error",
          "ename": "ValueError",
          "evalue": "ignored",
          "traceback": [
            "\u001b[0;31m---------------------------------------------------------------------------\u001b[0m",
            "\u001b[0;31mValueError\u001b[0m                                Traceback (most recent call last)",
            "\u001b[0;32mpandas/_libs/lib.pyx\u001b[0m in \u001b[0;36mpandas._libs.lib.maybe_convert_numeric\u001b[0;34m()\u001b[0m\n",
            "\u001b[0;31mValueError\u001b[0m: Unable to parse string \"  - \"",
            "\nDuring handling of the above exception, another exception occurred:\n",
            "\u001b[0;31mValueError\u001b[0m                                Traceback (most recent call last)",
            "\u001b[0;32m<ipython-input-153-a976879d2d3a>\u001b[0m in \u001b[0;36m<module>\u001b[0;34m()\u001b[0m\n\u001b[0;32m----> 1\u001b[0;31m \u001b[0mdata\u001b[0m\u001b[0;34m[\u001b[0m\u001b[0;34m[\u001b[0m\u001b[0;34m'Keluar'\u001b[0m\u001b[0;34m,\u001b[0m\u001b[0;34m'Nilai'\u001b[0m\u001b[0;34m,\u001b[0m\u001b[0;34m'Jumlah'\u001b[0m\u001b[0;34m,\u001b[0m\u001b[0;34m'Berat'\u001b[0m\u001b[0;34m,\u001b[0m\u001b[0;34m'Total Berat'\u001b[0m\u001b[0;34m]\u001b[0m\u001b[0;34m]\u001b[0m \u001b[0;34m=\u001b[0m \u001b[0mdata\u001b[0m\u001b[0;34m[\u001b[0m\u001b[0;34m[\u001b[0m\u001b[0;34m'Keluar'\u001b[0m\u001b[0;34m,\u001b[0m \u001b[0;34m'Nilai'\u001b[0m\u001b[0;34m,\u001b[0m \u001b[0;34m'Jumlah'\u001b[0m\u001b[0;34m,\u001b[0m\u001b[0;34m'Berat'\u001b[0m\u001b[0;34m,\u001b[0m\u001b[0;34m'Total Berat'\u001b[0m\u001b[0;34m]\u001b[0m\u001b[0;34m]\u001b[0m\u001b[0;34m.\u001b[0m\u001b[0mapply\u001b[0m\u001b[0;34m(\u001b[0m\u001b[0mpd\u001b[0m\u001b[0;34m.\u001b[0m\u001b[0mto_numeric\u001b[0m\u001b[0;34m)\u001b[0m\u001b[0;34m\u001b[0m\u001b[0;34m\u001b[0m\u001b[0m\n\u001b[0m",
            "\u001b[0;32m/usr/local/lib/python3.7/dist-packages/pandas/core/frame.py\u001b[0m in \u001b[0;36mapply\u001b[0;34m(self, func, axis, raw, result_type, args, **kwds)\u001b[0m\n\u001b[1;32m   7550\u001b[0m             \u001b[0mkwds\u001b[0m\u001b[0;34m=\u001b[0m\u001b[0mkwds\u001b[0m\u001b[0;34m,\u001b[0m\u001b[0;34m\u001b[0m\u001b[0;34m\u001b[0m\u001b[0m\n\u001b[1;32m   7551\u001b[0m         )\n\u001b[0;32m-> 7552\u001b[0;31m         \u001b[0;32mreturn\u001b[0m \u001b[0mop\u001b[0m\u001b[0;34m.\u001b[0m\u001b[0mget_result\u001b[0m\u001b[0;34m(\u001b[0m\u001b[0;34m)\u001b[0m\u001b[0;34m\u001b[0m\u001b[0;34m\u001b[0m\u001b[0m\n\u001b[0m\u001b[1;32m   7553\u001b[0m \u001b[0;34m\u001b[0m\u001b[0m\n\u001b[1;32m   7554\u001b[0m     \u001b[0;32mdef\u001b[0m \u001b[0mapplymap\u001b[0m\u001b[0;34m(\u001b[0m\u001b[0mself\u001b[0m\u001b[0;34m,\u001b[0m \u001b[0mfunc\u001b[0m\u001b[0;34m)\u001b[0m \u001b[0;34m->\u001b[0m \u001b[0;34m\"DataFrame\"\u001b[0m\u001b[0;34m:\u001b[0m\u001b[0;34m\u001b[0m\u001b[0;34m\u001b[0m\u001b[0m\n",
            "\u001b[0;32m/usr/local/lib/python3.7/dist-packages/pandas/core/apply.py\u001b[0m in \u001b[0;36mget_result\u001b[0;34m(self)\u001b[0m\n\u001b[1;32m    183\u001b[0m             \u001b[0;32mreturn\u001b[0m \u001b[0mself\u001b[0m\u001b[0;34m.\u001b[0m\u001b[0mapply_raw\u001b[0m\u001b[0;34m(\u001b[0m\u001b[0;34m)\u001b[0m\u001b[0;34m\u001b[0m\u001b[0;34m\u001b[0m\u001b[0m\n\u001b[1;32m    184\u001b[0m \u001b[0;34m\u001b[0m\u001b[0m\n\u001b[0;32m--> 185\u001b[0;31m         \u001b[0;32mreturn\u001b[0m \u001b[0mself\u001b[0m\u001b[0;34m.\u001b[0m\u001b[0mapply_standard\u001b[0m\u001b[0;34m(\u001b[0m\u001b[0;34m)\u001b[0m\u001b[0;34m\u001b[0m\u001b[0;34m\u001b[0m\u001b[0m\n\u001b[0m\u001b[1;32m    186\u001b[0m \u001b[0;34m\u001b[0m\u001b[0m\n\u001b[1;32m    187\u001b[0m     \u001b[0;32mdef\u001b[0m \u001b[0mapply_empty_result\u001b[0m\u001b[0;34m(\u001b[0m\u001b[0mself\u001b[0m\u001b[0;34m)\u001b[0m\u001b[0;34m:\u001b[0m\u001b[0;34m\u001b[0m\u001b[0;34m\u001b[0m\u001b[0m\n",
            "\u001b[0;32m/usr/local/lib/python3.7/dist-packages/pandas/core/apply.py\u001b[0m in \u001b[0;36mapply_standard\u001b[0;34m(self)\u001b[0m\n\u001b[1;32m    274\u001b[0m \u001b[0;34m\u001b[0m\u001b[0m\n\u001b[1;32m    275\u001b[0m     \u001b[0;32mdef\u001b[0m \u001b[0mapply_standard\u001b[0m\u001b[0;34m(\u001b[0m\u001b[0mself\u001b[0m\u001b[0;34m)\u001b[0m\u001b[0;34m:\u001b[0m\u001b[0;34m\u001b[0m\u001b[0;34m\u001b[0m\u001b[0m\n\u001b[0;32m--> 276\u001b[0;31m         \u001b[0mresults\u001b[0m\u001b[0;34m,\u001b[0m \u001b[0mres_index\u001b[0m \u001b[0;34m=\u001b[0m \u001b[0mself\u001b[0m\u001b[0;34m.\u001b[0m\u001b[0mapply_series_generator\u001b[0m\u001b[0;34m(\u001b[0m\u001b[0;34m)\u001b[0m\u001b[0;34m\u001b[0m\u001b[0;34m\u001b[0m\u001b[0m\n\u001b[0m\u001b[1;32m    277\u001b[0m \u001b[0;34m\u001b[0m\u001b[0m\n\u001b[1;32m    278\u001b[0m         \u001b[0;31m# wrap results\u001b[0m\u001b[0;34m\u001b[0m\u001b[0;34m\u001b[0m\u001b[0;34m\u001b[0m\u001b[0m\n",
            "\u001b[0;32m/usr/local/lib/python3.7/dist-packages/pandas/core/apply.py\u001b[0m in \u001b[0;36mapply_series_generator\u001b[0;34m(self)\u001b[0m\n\u001b[1;32m    303\u001b[0m                 \u001b[0;32mfor\u001b[0m \u001b[0mi\u001b[0m\u001b[0;34m,\u001b[0m \u001b[0mv\u001b[0m \u001b[0;32min\u001b[0m \u001b[0menumerate\u001b[0m\u001b[0;34m(\u001b[0m\u001b[0mseries_gen\u001b[0m\u001b[0;34m)\u001b[0m\u001b[0;34m:\u001b[0m\u001b[0;34m\u001b[0m\u001b[0;34m\u001b[0m\u001b[0m\n\u001b[1;32m    304\u001b[0m                     \u001b[0;31m# ignore SettingWithCopy here in case the user mutates\u001b[0m\u001b[0;34m\u001b[0m\u001b[0;34m\u001b[0m\u001b[0;34m\u001b[0m\u001b[0m\n\u001b[0;32m--> 305\u001b[0;31m                     \u001b[0mresults\u001b[0m\u001b[0;34m[\u001b[0m\u001b[0mi\u001b[0m\u001b[0;34m]\u001b[0m \u001b[0;34m=\u001b[0m \u001b[0mself\u001b[0m\u001b[0;34m.\u001b[0m\u001b[0mf\u001b[0m\u001b[0;34m(\u001b[0m\u001b[0mv\u001b[0m\u001b[0;34m)\u001b[0m\u001b[0;34m\u001b[0m\u001b[0;34m\u001b[0m\u001b[0m\n\u001b[0m\u001b[1;32m    306\u001b[0m                     \u001b[0;32mif\u001b[0m \u001b[0misinstance\u001b[0m\u001b[0;34m(\u001b[0m\u001b[0mresults\u001b[0m\u001b[0;34m[\u001b[0m\u001b[0mi\u001b[0m\u001b[0;34m]\u001b[0m\u001b[0;34m,\u001b[0m \u001b[0mABCSeries\u001b[0m\u001b[0;34m)\u001b[0m\u001b[0;34m:\u001b[0m\u001b[0;34m\u001b[0m\u001b[0;34m\u001b[0m\u001b[0m\n\u001b[1;32m    307\u001b[0m                         \u001b[0;31m# If we have a view on v, we need to make a copy because\u001b[0m\u001b[0;34m\u001b[0m\u001b[0;34m\u001b[0m\u001b[0;34m\u001b[0m\u001b[0m\n",
            "\u001b[0;32m/usr/local/lib/python3.7/dist-packages/pandas/core/tools/numeric.py\u001b[0m in \u001b[0;36mto_numeric\u001b[0;34m(arg, errors, downcast)\u001b[0m\n\u001b[1;32m    151\u001b[0m         \u001b[0;32mtry\u001b[0m\u001b[0;34m:\u001b[0m\u001b[0;34m\u001b[0m\u001b[0;34m\u001b[0m\u001b[0m\n\u001b[1;32m    152\u001b[0m             values = lib.maybe_convert_numeric(\n\u001b[0;32m--> 153\u001b[0;31m                 \u001b[0mvalues\u001b[0m\u001b[0;34m,\u001b[0m \u001b[0mset\u001b[0m\u001b[0;34m(\u001b[0m\u001b[0;34m)\u001b[0m\u001b[0;34m,\u001b[0m \u001b[0mcoerce_numeric\u001b[0m\u001b[0;34m=\u001b[0m\u001b[0mcoerce_numeric\u001b[0m\u001b[0;34m\u001b[0m\u001b[0;34m\u001b[0m\u001b[0m\n\u001b[0m\u001b[1;32m    154\u001b[0m             )\n\u001b[1;32m    155\u001b[0m         \u001b[0;32mexcept\u001b[0m \u001b[0;34m(\u001b[0m\u001b[0mValueError\u001b[0m\u001b[0;34m,\u001b[0m \u001b[0mTypeError\u001b[0m\u001b[0;34m)\u001b[0m\u001b[0;34m:\u001b[0m\u001b[0;34m\u001b[0m\u001b[0;34m\u001b[0m\u001b[0m\n",
            "\u001b[0;32mpandas/_libs/lib.pyx\u001b[0m in \u001b[0;36mpandas._libs.lib.maybe_convert_numeric\u001b[0;34m()\u001b[0m\n",
            "\u001b[0;31mValueError\u001b[0m: Unable to parse string \"  - \" at position 565"
          ]
        }
      ]
    },
    {
      "cell_type": "code",
      "metadata": {
        "colab": {
          "base_uri": "https://localhost:8080/"
        },
        "id": "wXbJTY2kqRHO",
        "outputId": "0dce0e22-ae44-408f-f76f-364d3051d681"
      },
      "source": [
        "data.loc[565]"
      ],
      "execution_count": null,
      "outputs": [
        {
          "output_type": "execute_result",
          "data": {
            "text/plain": [
              "Tanggal                    2020-03-19 00:00:00\n",
              "IN / OUT                                   OUT\n",
              "Nomor GDN/GRN                            19.22\n",
              "Gudang                                      G3\n",
              "Dari/Kepada-Masking    PMI Provinsi Jawa Barat\n",
              "Nama Barang                            Sprayer\n",
              "Merk/Jenis-Deleted                    Elektrik\n",
              "Satuan                                    Unit\n",
              "Masuk                                      NaN\n",
              "Keluar                                      - \n",
              "Nilai                                  650.000\n",
              "Jumlah                                       0\n",
              "Berat                                      7.3\n",
              "Total Berat                                  0\n",
              "Name: 565, dtype: object"
            ]
          },
          "metadata": {},
          "execution_count": 146
        }
      ]
    },
    {
      "cell_type": "code",
      "metadata": {
        "id": "77kDEzD0ZYep"
      },
      "source": [
        "data.to_excel(r'/content/sample_data/pre_data_pmi_fix.xlsx')"
      ],
      "execution_count": null,
      "outputs": []
    },
    {
      "cell_type": "code",
      "metadata": {
        "colab": {
          "base_uri": "https://localhost:8080/",
          "height": 419
        },
        "id": "5jEs77Lff0XX",
        "outputId": "2d8a810f-f071-4dac-899e-92cc8dbc4cdd"
      },
      "source": [
        "data"
      ],
      "execution_count": null,
      "outputs": [
        {
          "output_type": "execute_result",
          "data": {
            "text/html": [
              "<div>\n",
              "<style scoped>\n",
              "    .dataframe tbody tr th:only-of-type {\n",
              "        vertical-align: middle;\n",
              "    }\n",
              "\n",
              "    .dataframe tbody tr th {\n",
              "        vertical-align: top;\n",
              "    }\n",
              "\n",
              "    .dataframe thead th {\n",
              "        text-align: right;\n",
              "    }\n",
              "</style>\n",
              "<table border=\"1\" class=\"dataframe\">\n",
              "  <thead>\n",
              "    <tr style=\"text-align: right;\">\n",
              "      <th></th>\n",
              "      <th>Tanggal</th>\n",
              "      <th>IN / OUT</th>\n",
              "      <th>Nomor GDN/GRN</th>\n",
              "      <th>Gudang</th>\n",
              "      <th>Dari/Kepada-Masking</th>\n",
              "      <th>Nama Barang</th>\n",
              "      <th>Merk/Jenis-Deleted</th>\n",
              "      <th>Satuan</th>\n",
              "      <th>Masuk</th>\n",
              "      <th>Keluar</th>\n",
              "      <th>Nilai</th>\n",
              "      <th>Jumlah</th>\n",
              "      <th>Berat</th>\n",
              "      <th>Total Berat</th>\n",
              "    </tr>\n",
              "  </thead>\n",
              "  <tbody>\n",
              "    <tr>\n",
              "      <th>0</th>\n",
              "      <td>2020-02-01</td>\n",
              "      <td>IN</td>\n",
              "      <td>01.01</td>\n",
              "      <td>G2</td>\n",
              "      <td>Gudang Regional PMI_Serang</td>\n",
              "      <td>Masker Bedah</td>\n",
              "      <td>Sensi</td>\n",
              "      <td>Pcs</td>\n",
              "      <td>350.000</td>\n",
              "      <td>NaN</td>\n",
              "      <td>7.000</td>\n",
              "      <td>2.450.000.000</td>\n",
              "      <td>0.006</td>\n",
              "      <td>2100.00</td>\n",
              "    </tr>\n",
              "    <tr>\n",
              "      <th>1</th>\n",
              "      <td>2020-02-01</td>\n",
              "      <td>OUT</td>\n",
              "      <td>01.01</td>\n",
              "      <td>G2</td>\n",
              "      <td>Ketua Umum</td>\n",
              "      <td>Masker N95</td>\n",
              "      <td>3M</td>\n",
              "      <td>Pcs</td>\n",
              "      <td>NaN</td>\n",
              "      <td>800</td>\n",
              "      <td>108.240</td>\n",
              "      <td>86.592.000</td>\n",
              "      <td>0.040</td>\n",
              "      <td>32.00</td>\n",
              "    </tr>\n",
              "    <tr>\n",
              "      <th>2</th>\n",
              "      <td>2020-02-01</td>\n",
              "      <td>OUT</td>\n",
              "      <td>01.02</td>\n",
              "      <td>G2</td>\n",
              "      <td>PMI Kabupaten Natuna</td>\n",
              "      <td>Masker Bedah</td>\n",
              "      <td>Sensi</td>\n",
              "      <td>Pcs</td>\n",
              "      <td>NaN</td>\n",
              "      <td>20.000</td>\n",
              "      <td>7.000</td>\n",
              "      <td>140.000.000</td>\n",
              "      <td>0.006</td>\n",
              "      <td>120.00</td>\n",
              "    </tr>\n",
              "    <tr>\n",
              "      <th>3</th>\n",
              "      <td>2020-02-05</td>\n",
              "      <td>OUT</td>\n",
              "      <td>05.01</td>\n",
              "      <td>G2</td>\n",
              "      <td>Palang Merah Hongkong</td>\n",
              "      <td>Masker Bedah</td>\n",
              "      <td>Sensi</td>\n",
              "      <td>Pcs</td>\n",
              "      <td>NaN</td>\n",
              "      <td>50.000</td>\n",
              "      <td>7.000</td>\n",
              "      <td>350.000.000</td>\n",
              "      <td>0.006</td>\n",
              "      <td>300.00</td>\n",
              "    </tr>\n",
              "    <tr>\n",
              "      <th>4</th>\n",
              "      <td>2020-02-05</td>\n",
              "      <td>OUT</td>\n",
              "      <td>05.02</td>\n",
              "      <td>G2</td>\n",
              "      <td>Lain-lain</td>\n",
              "      <td>Masker Bedah</td>\n",
              "      <td>Sensi</td>\n",
              "      <td>Pcs</td>\n",
              "      <td>NaN</td>\n",
              "      <td>4.000</td>\n",
              "      <td>7.000</td>\n",
              "      <td>28.000.000</td>\n",
              "      <td>0.006</td>\n",
              "      <td>24.00</td>\n",
              "    </tr>\n",
              "    <tr>\n",
              "      <th>...</th>\n",
              "      <td>...</td>\n",
              "      <td>...</td>\n",
              "      <td>...</td>\n",
              "      <td>...</td>\n",
              "      <td>...</td>\n",
              "      <td>...</td>\n",
              "      <td>...</td>\n",
              "      <td>...</td>\n",
              "      <td>...</td>\n",
              "      <td>...</td>\n",
              "      <td>...</td>\n",
              "      <td>...</td>\n",
              "      <td>...</td>\n",
              "      <td>...</td>\n",
              "    </tr>\n",
              "    <tr>\n",
              "      <th>8184</th>\n",
              "      <td>2021-04-26</td>\n",
              "      <td>OUT</td>\n",
              "      <td>-</td>\n",
              "      <td>G4</td>\n",
              "      <td>Tidak Layak digunakan (Reject)</td>\n",
              "      <td>Kopi Kapal Api</td>\n",
              "      <td>NaN</td>\n",
              "      <td>Pcs</td>\n",
              "      <td>NaN</td>\n",
              "      <td>10</td>\n",
              "      <td>NaN</td>\n",
              "      <td>0</td>\n",
              "      <td>NaN</td>\n",
              "      <td>0.00</td>\n",
              "    </tr>\n",
              "    <tr>\n",
              "      <th>8185</th>\n",
              "      <td>2021-04-26</td>\n",
              "      <td>OUT</td>\n",
              "      <td>-</td>\n",
              "      <td>G4</td>\n",
              "      <td>Tidak Layak digunakan (Reject)</td>\n",
              "      <td>Mie Instan</td>\n",
              "      <td>NaN</td>\n",
              "      <td>Pcs</td>\n",
              "      <td>NaN</td>\n",
              "      <td>9</td>\n",
              "      <td>NaN</td>\n",
              "      <td>0</td>\n",
              "      <td>NaN</td>\n",
              "      <td>0.00</td>\n",
              "    </tr>\n",
              "    <tr>\n",
              "      <th>8186</th>\n",
              "      <td>2021-04-26</td>\n",
              "      <td>OUT</td>\n",
              "      <td>-</td>\n",
              "      <td>G4</td>\n",
              "      <td>Tidak Layak digunakan (Reject)</td>\n",
              "      <td>Cheetos Snack 15 g</td>\n",
              "      <td>NaN</td>\n",
              "      <td>Pcs</td>\n",
              "      <td>NaN</td>\n",
              "      <td>46</td>\n",
              "      <td>NaN</td>\n",
              "      <td>0</td>\n",
              "      <td>NaN</td>\n",
              "      <td>0.00</td>\n",
              "    </tr>\n",
              "    <tr>\n",
              "      <th>8187</th>\n",
              "      <td>2021-04-27</td>\n",
              "      <td>OUT</td>\n",
              "      <td>27.01</td>\n",
              "      <td>G4</td>\n",
              "      <td>Staff MP PMI</td>\n",
              "      <td>Wipol</td>\n",
              "      <td>NaN</td>\n",
              "      <td>Pouch</td>\n",
              "      <td>NaN</td>\n",
              "      <td>2</td>\n",
              "      <td>15.500</td>\n",
              "      <td>31.000</td>\n",
              "      <td>0.780</td>\n",
              "      <td>1.56</td>\n",
              "    </tr>\n",
              "    <tr>\n",
              "      <th>8188</th>\n",
              "      <td>2021-04-27</td>\n",
              "      <td>OUT</td>\n",
              "      <td>27.01</td>\n",
              "      <td>G4</td>\n",
              "      <td>Staff MP PMI</td>\n",
              "      <td>Sabun Marina</td>\n",
              "      <td>NaN</td>\n",
              "      <td>Pouch</td>\n",
              "      <td>NaN</td>\n",
              "      <td>2</td>\n",
              "      <td>20.000</td>\n",
              "      <td>40.000</td>\n",
              "      <td>0.430</td>\n",
              "      <td>0.86</td>\n",
              "    </tr>\n",
              "  </tbody>\n",
              "</table>\n",
              "<p>8189 rows × 14 columns</p>\n",
              "</div>"
            ],
            "text/plain": [
              "        Tanggal IN / OUT Nomor GDN/GRN  ...         Jumlah  Berat Total Berat\n",
              "0    2020-02-01       IN         01.01  ...  2.450.000.000  0.006     2100.00\n",
              "1    2020-02-01      OUT         01.01  ...     86.592.000  0.040       32.00\n",
              "2    2020-02-01      OUT         01.02  ...    140.000.000  0.006      120.00\n",
              "3    2020-02-05      OUT         05.01  ...    350.000.000  0.006      300.00\n",
              "4    2020-02-05      OUT         05.02  ...     28.000.000  0.006       24.00\n",
              "...         ...      ...           ...  ...            ...    ...         ...\n",
              "8184 2021-04-26      OUT             -  ...              0    NaN        0.00\n",
              "8185 2021-04-26      OUT             -  ...              0    NaN        0.00\n",
              "8186 2021-04-26      OUT             -  ...              0    NaN        0.00\n",
              "8187 2021-04-27      OUT         27.01  ...         31.000  0.780        1.56\n",
              "8188 2021-04-27      OUT         27.01  ...         40.000  0.430        0.86\n",
              "\n",
              "[8189 rows x 14 columns]"
            ]
          },
          "metadata": {},
          "execution_count": 138
        }
      ]
    },
    {
      "cell_type": "code",
      "metadata": {
        "id": "ias7G4BDnWyR"
      },
      "source": [
        ""
      ],
      "execution_count": null,
      "outputs": []
    }
  ]
}